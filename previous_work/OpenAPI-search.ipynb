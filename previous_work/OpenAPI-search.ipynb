{
 "cells": [
  {
   "cell_type": "code",
   "execution_count": 31,
   "id": "bdee511a-f477-4b21-8915-4ca80bedc98a",
   "metadata": {},
   "outputs": [],
   "source": [
    "!pip install tavily-python --quiet"
   ]
  },
  {
   "cell_type": "code",
   "execution_count": 32,
   "id": "ecbea421-5d5a-420e-871c-80c90cf18783",
   "metadata": {},
   "outputs": [],
   "source": [
    "from dotenv import load_dotenv\n",
    "import os\n",
    "from tavily import TavilyClient\n",
    "import pprint"
   ]
  },
  {
   "cell_type": "code",
   "execution_count": 33,
   "id": "dead74dd-dfbc-44e8-9e48-cbfbe90e95b0",
   "metadata": {},
   "outputs": [],
   "source": [
    "pp = pprint.PrettyPrinter()\n",
    "\n",
    "load_dotenv()\n",
    "TAVILY_API_KEY = os.getenv('TAVILY_API_KEY')\n",
    "tavily = TavilyClient(api_key=TAVILY_API_KEY)"
   ]
  },
  {
   "cell_type": "code",
   "execution_count": 44,
   "id": "6a2b91a6-247b-42c3-85fa-e1f2b13d5dc7",
   "metadata": {},
   "outputs": [],
   "source": [
    "service = 'Google Cloud'\n",
    "\n",
    "\"\"\"\n",
    "query_prompt = f'''\n",
    "    Does {service} have an OpenAPI specification?\n",
    "    Your response should only contain True or False.\n",
    "    Answer format: True, False\n",
    "'''\n",
    "\"\"\"\n",
    "\n",
    "query_prompt = f'''\n",
    "    Can I access the {service} API through their OpenAPI specification?\n",
    "    If it does exist, your answer should provide only the link to the OpenAPI specification.\n",
    "    If it does not, return `OpenAPI specification not found.` instead of the link.\n",
    "'''"
   ]
  },
  {
   "cell_type": "code",
   "execution_count": 45,
   "id": "2a1cacd1-44bb-45b7-a41c-945f3ac77b0b",
   "metadata": {},
   "outputs": [
    {
     "name": "stdout",
     "output_type": "stream",
     "text": [
      "https://cloud.google.com/api-gateway/docs/openapi-overview\n"
     ]
    }
   ],
   "source": [
    "response = tavily.search(query=query_prompt, include_answer=True)\n",
    "# Simple query:\n",
    "# tavily.qna_search(query=\"Where does Messi play right now?\")\n",
    "\n",
    "#pp.pprint(response)\n",
    "print(response['answer'])"
   ]
  },
  {
   "cell_type": "code",
   "execution_count": 46,
   "id": "2e327e19-1285-4f96-ace5-8bae65aea879",
   "metadata": {},
   "outputs": [
    {
     "name": "stdout",
     "output_type": "stream",
     "text": [
      "{'answer': 'https://cloud.google.com/api-gateway/docs/openapi-overview',\n",
      " 'follow_up_questions': None,\n",
      " 'images': None,\n",
      " 'query': '\\n'\n",
      "          '    Can I access the Google Cloud API through their OpenAPI '\n",
      "          'specification?\\n'\n",
      "          '    If it does exist, your answer should provide only the link to '\n",
      "          'the OpenAPI specification.\\n'\n",
      "          '    If it does not, return `null` instead of the link.\\n',\n",
      " 'response_time': 2.34,\n",
      " 'results': [{'content': 'For example, you can:\\n'\n",
      "                         'Basic structure of an OpenAPI document\\n'\n",
      "                         'An OpenAPI document describes the surface of your '\n",
      "                         'REST API, and defines information such as:\\n'\n",
      "                         'If you are new to OpenAPI, take a look at the\\n'\n",
      "                         'Swagger basic structure\\n'\n",
      "                         'website, which provides a sample OpenAPI document '\n",
      "                         '(also referred to as a\\n'\n",
      "                         'Swagger specification) and briefly explains each '\n",
      "                         'section of the file.\\n'\n",
      "                         ' Benefits\\n'\n",
      "                         'One of the primary benefits to using OpenAPI is for '\n",
      "                         'documentation; once you\\n'\n",
      "                         'have an OpenAPI document that describes your API, it '\n",
      "                         'is easy to generate\\n'\n",
      "                         'reference documentation for your API.\\n'\n",
      "                         ' In addition to the basic structure, use the '\n",
      "                         'openapi.yaml file to configure:\\n'\n",
      "                         'Generating an OpenAPI document\\n'\n",
      "                         'Depending on what language you are using, you might '\n",
      "                         'be able to generate an\\n'\n",
      "                         'OpenAPI document. This page describes some of the '\n",
      "                         'benefits to using OpenAPI,\\n'\n",
      "                         'shows a basic OpenAPI document, and provides '\n",
      "                         'additional information\\n'\n",
      "                         'to help you get started with OpenAPI.\\n'\n",
      "                         ' OpenAPI overview\\n'\n",
      "                         'API Gateway supports APIs that are described using '\n",
      "                         'the OpenAPI specification, version\\n'\n",
      "                         '2.0.\\n',\n",
      "              'raw_content': None,\n",
      "              'score': 0.9563,\n",
      "              'title': 'OpenAPI overview | API Gateway Documentation | Google '\n",
      "                       'Cloud',\n",
      "              'url': 'https://cloud.google.com/api-gateway/docs/openapi-overview'},\n",
      "             {'content': 'Cloud Endpoints accepts a set of Google-specific '\n",
      "                         'extensions to the OpenAPI specification that '\n",
      "                         'configure the behaviors of the Extensible Service '\n",
      "                         'Proxy (ESP) and Service Control. This page describes '\n",
      "                         'Google- specific extensions to the OpenAPI '\n",
      "                         'specification. Although the examples given below are '\n",
      "                         'in YAML format, JSON is also supported.',\n",
      "              'raw_content': None,\n",
      "              'score': 0.91667,\n",
      "              'title': 'OpenAPI extensions | Cloud Endpoints with OpenAPI | '\n",
      "                       'Google Cloud',\n",
      "              'url': 'https://cloud.google.com/endpoints/docs/openapi/openapi-extensions'},\n",
      "             {'content': 'The gcloud CLI provides the gcloud command-line tool '\n",
      "                         'that you can use to make calls to various Google '\n",
      "                         'Cloud services. You use the Google Cloud CLI to '\n",
      "                         'upload your OpenAPI spec, which creates the API '\n",
      "                         'config, and then to deploy the API config to API '\n",
      "                         'Gateway. Cloud console. Google Cloud console is the '\n",
      "                         'graphical user interface for Google Cloud. Use ...',\n",
      "              'raw_content': None,\n",
      "              'score': 0.91148,\n",
      "              'title': 'API Gateway Architecture | API Gateway Documentation - '\n",
      "                       'Google Cloud',\n",
      "              'url': 'https://cloud.google.com/api-gateway/docs/architecture-overview'},\n",
      "             {'content': 'Cloud Endpoints supports APIs that are described '\n",
      "                         'using version 2.0 of the OpenAPI specification.Your '\n",
      "                         'API can be implemented using any publicly available '\n",
      "                         'REST framework such as Django or Jersey.You describe '\n",
      "                         'your API in a JSON or YAML file referred to as an '\n",
      "                         'OpenAPI document.This page describes some of the '\n",
      "                         'benefits to using OpenAPI, shows a basic OpenAPI '\n",
      "                         'document, and provides additional ...',\n",
      "              'raw_content': None,\n",
      "              'score': 0.90545,\n",
      "              'title': 'OpenAPI overview | Cloud Endpoints with OpenAPI | '\n",
      "                       'Google Cloud',\n",
      "              'url': 'https://cloud.google.com/endpoints/docs/openapi/openapi-overview'},\n",
      "             {'content': 'Build API gateways. Cloud Endpoints uses an open '\n",
      "                         'source proxy and distributed architecture for '\n",
      "                         'performance and scale. Using an OpenAPI '\n",
      "                         'Specification or one of our API frameworks, Cloud '\n",
      "                         'Endpoints gives you the tools you need for API '\n",
      "                         'development and provides insight with Cloud Logging, '\n",
      "                         'Cloud Monitoring, and Cloud Trace.',\n",
      "              'raw_content': None,\n",
      "              'score': 0.90037,\n",
      "              'title': 'Cloud Endpoints | Google Cloud',\n",
      "              'url': 'https://cloud.google.com/endpoints/'}]}\n"
     ]
    }
   ],
   "source": [
    "pp.pprint(response)"
   ]
  },
  {
   "cell_type": "code",
   "execution_count": null,
   "id": "28d6df9d-ece5-4b2d-99ce-60d4aa3ace80",
   "metadata": {},
   "outputs": [],
   "source": []
  }
 ],
 "metadata": {
  "kernelspec": {
   "display_name": "Python 3 (ipykernel)",
   "language": "python",
   "name": "python3"
  },
  "language_info": {
   "codemirror_mode": {
    "name": "ipython",
    "version": 3
   },
   "file_extension": ".py",
   "mimetype": "text/x-python",
   "name": "python",
   "nbconvert_exporter": "python",
   "pygments_lexer": "ipython3",
   "version": "3.11.9"
  }
 },
 "nbformat": 4,
 "nbformat_minor": 5
}
